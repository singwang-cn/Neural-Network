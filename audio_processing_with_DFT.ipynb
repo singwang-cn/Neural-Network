{
  "nbformat": 4,
  "nbformat_minor": 0,
  "metadata": {
    "colab": {
      "name": "audio_processing_with_DFT.ipynb",
      "provenance": [],
      "collapsed_sections": [],
      "mount_file_id": "1b9nHFZ0KeahZF2c6NSPlnQITu0Bj-L1y",
      "authorship_tag": "ABX9TyMt0V0AwTXnl7KSUKCDCshC",
      "include_colab_link": true
    },
    "kernelspec": {
      "name": "python3",
      "display_name": "Python 3"
    }
  },
  "cells": [
    {
      "cell_type": "markdown",
      "metadata": {
        "id": "view-in-github",
        "colab_type": "text"
      },
      "source": [
        "<a href=\"https://colab.research.google.com/github/singwang-cn/Neural-Network/blob/master/audio_processing_with_DFT.ipynb\" target=\"_parent\"><img src=\"https://colab.research.google.com/assets/colab-badge.svg\" alt=\"Open In Colab\"/></a>"
      ]
    },
    {
      "cell_type": "code",
      "metadata": {
        "id": "ObnJ8mQmc0RG",
        "outputId": "d13bc183-18bf-4254-b0a5-489695e76cf2",
        "colab": {
          "base_uri": "https://localhost:8080/",
          "height": 84
        }
      },
      "source": [
        "pip install pydub"
      ],
      "execution_count": null,
      "outputs": [
        {
          "output_type": "stream",
          "text": [
            "Collecting pydub\n",
            "  Downloading https://files.pythonhosted.org/packages/7b/d1/fbfa79371a8cd9bb15c2e3c480d7e6e340ed5cc55005174e16f48418333a/pydub-0.24.1-py2.py3-none-any.whl\n",
            "Installing collected packages: pydub\n",
            "Successfully installed pydub-0.24.1\n"
          ],
          "name": "stdout"
        }
      ]
    },
    {
      "cell_type": "code",
      "metadata": {
        "id": "6xNFEwCdc3jk"
      },
      "source": [
        "from pydub import AudioSegment\n",
        "import numpy as np\n",
        "import pandas as pd\n",
        "import matplotlib.pyplot as plt\n",
        "import torch"
      ],
      "execution_count": null,
      "outputs": []
    },
    {
      "cell_type": "markdown",
      "metadata": {
        "id": "y3M32JWZ1rOn"
      },
      "source": [
        "# Step 1 Preparation of Data Set\n",
        "The first thing to do is preparing the data. There are 150 pieces of voice and 3 longer ones from three differet people in the data used for this task. And we also need to define a function for Discrete Fourier Transform to process the data set."
      ]
    },
    {
      "cell_type": "code",
      "metadata": {
        "id": "CO81cq_zKQwG"
      },
      "source": [
        "sound_list = []\n",
        "for i in range(50):\n",
        "  sound = AudioSegment.from_file(\"/content/drive/My Drive/Dataset/audio/wzq{}.m4a\".format(i+1), \"m4a\")\n",
        "  samples = np.array(sound.get_array_of_samples())\n",
        "  sound_list.append(samples[::sound.channels])\n",
        "for i in range(50):\n",
        "  sound = AudioSegment.from_file(\"/content/drive/My Drive/Dataset/audio/lx{}.m4a\".format(i+1), \"m4a\")\n",
        "  samples = np.array(sound.get_array_of_samples())\n",
        "  sound_list.append(samples[::sound.channels])\n",
        "for i in range(50):\n",
        "  sound = AudioSegment.from_file(\"/content/drive/My Drive/Dataset/audio/zty{}.m4a\".format(i+1), \"m4a\")\n",
        "  samples = np.array(sound.get_array_of_samples())\n",
        "  sound_list.append(samples[::sound.channels])"
      ],
      "execution_count": null,
      "outputs": []
    },
    {
      "cell_type": "code",
      "metadata": {
        "id": "kj-FO9Fd-Knr"
      },
      "source": [
        "def Discrete_Fourier_Transform(sample):\n",
        "  M = 10\n",
        "  Fourier_Matrix = np.zeros([M, M], dtype=complex)\n",
        "  for k in range(M):\n",
        "    for n in range(M):\n",
        "      Fourier_Matrix[k][n] = np.exp((0-1j)*2*np.pi/M*k*n)\n",
        "  \n",
        "  start = 0\n",
        "  D = np.zeros(M)\n",
        "  for i in range(int(len(sample) / M)):\n",
        "    D += abs(np.dot(sample[start:start+M], Fourier_Matrix)) / M\n",
        "    start += M\n",
        "\n",
        "  return D / int(len(sample))"
      ],
      "execution_count": null,
      "outputs": []
    },
    {
      "cell_type": "markdown",
      "metadata": {
        "id": "bwU1X_PE3iTE"
      },
      "source": [
        "Demonstration of the sounds tansformed to digital signal"
      ]
    },
    {
      "cell_type": "code",
      "metadata": {
        "id": "s0Ho9Xn9HLg0",
        "outputId": "b9e9b8c7-79f3-4617-da10-e20cf6540101",
        "colab": {
          "base_uri": "https://localhost:8080/",
          "height": 282
        }
      },
      "source": [
        "sound = AudioSegment.from_file(\"/content/drive/My Drive/Dataset/audio/Test_record_for_DFT.m4a\", \"m4a\")\n",
        "samples = np.array(sound.get_array_of_samples())\n",
        "sample = samples[::sound.channels]\n",
        "plt.plot(sample[::10])"
      ],
      "execution_count": null,
      "outputs": [
        {
          "output_type": "execute_result",
          "data": {
            "text/plain": [
              "[<matplotlib.lines.Line2D at 0x7f444551b1d0>]"
            ]
          },
          "metadata": {
            "tags": []
          },
          "execution_count": 6
        },
        {
          "output_type": "display_data",
          "data": {
            "image/png": "[encoded data removed]",
            "text/plain": [
              "<Figure size 432x288 with 1 Axes>"
            ]
          },
          "metadata": {
            "tags": [],
            "needs_background": "light"
          }
        }
      ]
    },
    {
      "cell_type": "code",
      "metadata": {
        "id": "JE2Ox-aCHadC",
        "outputId": "bfd0d3c3-98e6-4a3c-bc45-3c9497581f7b",
        "colab": {
          "base_uri": "https://localhost:8080/",
          "height": 282
        }
      },
      "source": [
        "plt.bar(['1', 'x', '2x', '3x', '4x', '5x', '6x', '7x', '8x', '9x'], Discrete_Fourier_Transform(sample), 0.1)"
      ],
      "execution_count": null,
      "outputs": [
        {
          "output_type": "execute_result",
          "data": {
            "text/plain": [
              "<BarContainer object of 10 artists>"
            ]
          },
          "metadata": {
            "tags": []
          },
          "execution_count": 7
        },
        {
          "output_type": "display_data",
          "data": {
            "image/png": "[encoded data removed]",
            "text/plain": [
              "<Figure size 432x288 with 1 Axes>"
            ]
          },
          "metadata": {
            "tags": [],
            "needs_background": "light"
          }
        }
      ]
    },
    {
      "cell_type": "markdown",
      "metadata": {
        "id": "TzuVaBYN4cmz"
      },
      "source": [
        "To computer the coefficients of DFT and transform them into Tensor."
      ]
    },
    {
      "cell_type": "code",
      "metadata": {
        "id": "slfbswMce293"
      },
      "source": [
        "coefficient_dft = []\n",
        "for sound_instance in sound_list:\n",
        "  coefficient_dft.append(Discrete_Fourier_Transform(sound_instance))\n",
        "\n",
        "x = torch.Tensor(np.array(coefficient_dft)[:, 1:10])\n",
        "y = torch.Tensor([[1, 0, 0] for i in range(50)]+[[0, 1, 0] for i in range(50)]+[[0, 0, 1] for i in range(50)])"
      ],
      "execution_count": null,
      "outputs": []
    },
    {
      "cell_type": "markdown",
      "metadata": {
        "id": "nxMVMASW426K"
      },
      "source": [
        "# Step 2 Building a Deep Neural Network and Training\n",
        "The DNN with 10 neurons times 9 layers is used to recognize the sounds from different people."
      ]
    },
    {
      "cell_type": "code",
      "metadata": {
        "id": "4fXhpx-o-ZTK"
      },
      "source": [
        "input = 9\n",
        "neuron = 10\n",
        "output = 3\n",
        "model = torch.nn.Sequential(\n",
        "  torch.nn.Linear(input, neuron),\n",
        "  torch.nn.Sigmoid(),\n",
        "  torch.nn.Linear(neuron, neuron),\n",
        "  torch.nn.Sigmoid(),\n",
        "  torch.nn.Linear(neuron, neuron),\n",
        "  torch.nn.Sigmoid(),\n",
        "  torch.nn.Linear(neuron, neuron),\n",
        "  torch.nn.Sigmoid(),\n",
        "  torch.nn.Linear(neuron, neuron),\n",
        "  torch.nn.Sigmoid(),\n",
        "  torch.nn.Linear(neuron, neuron),\n",
        "  torch.nn.Sigmoid(),\n",
        "  torch.nn.Linear(neuron, neuron),\n",
        "  torch.nn.Sigmoid(),\n",
        "  torch.nn.Linear(neuron, neuron),\n",
        "  torch.nn.Sigmoid(),\n",
        "  torch.nn.Linear(neuron, neuron),\n",
        "  torch.nn.Sigmoid(),\n",
        "  torch.nn.Linear(neuron, output),\n",
        "  torch.nn.Softmax(dim=1)\n",
        ")\n",
        "cost_function = torch.nn.MSELoss()\n",
        "optimizer = torch.optim.Adam(model.parameters(), lr=0.015)"
      ],
      "execution_count": null,
      "outputs": []
    },
    {
      "cell_type": "markdown",
      "metadata": {
        "id": "LHuehYy35mHV"
      },
      "source": [
        "Training"
      ]
    },
    {
      "cell_type": "code",
      "metadata": {
        "id": "eLptceUEjuMj",
        "outputId": "a262ea98-b199-4873-f99f-a8b6c3ea6f57",
        "colab": {
          "base_uri": "https://localhost:8080/",
          "height": 34
        }
      },
      "source": [
        "for i in range(1500):\n",
        "  y_pre = model(x)\n",
        "  loss = cost_function(y_pre, y)\n",
        "  optimizer.zero_grad()\n",
        "  loss.backward()\n",
        "  optimizer.step()\n",
        "print(loss)"
      ],
      "execution_count": null,
      "outputs": [
        {
          "output_type": "stream",
          "text": [
            "tensor(0.0312, grad_fn=<MseLossBackward>)\n"
          ],
          "name": "stdout"
        }
      ]
    },
    {
      "cell_type": "markdown",
      "metadata": {
        "id": "lLcEQY545ryC"
      },
      "source": [
        "# Step 3 validation\n",
        "Because there are not suffient data in this task, resubstitution is used to valid the result."
      ]
    },
    {
      "cell_type": "code",
      "metadata": {
        "id": "nJrzzHS4YUDf",
        "outputId": "6cfcbda7-ed10-4e60-f0fb-424e2684c3a9",
        "colab": {
          "base_uri": "https://localhost:8080/",
          "height": 50
        }
      },
      "source": [
        "pre_result = np.argmax(model(x).data.numpy(), axis=1)\n",
        "real_result = np.argmax(y.data.numpy(), axis=1)\n",
        "result = (pre_result == real_result)\n",
        "\n",
        "print('quantity: {} / {}'.format(result.sum(), result.shape[0]))\n",
        "print('accuracy: {:.2%}'.format(result.sum() / result.shape[0]))"
      ],
      "execution_count": null,
      "outputs": [
        {
          "output_type": "stream",
          "text": [
            "quantity: 140 / 150\n",
            "accuracy: 93.33%\n"
          ],
          "name": "stdout"
        }
      ]
    },
    {
      "cell_type": "markdown",
      "metadata": {
        "id": "--l3w5uW6ae1"
      },
      "source": [
        "Finally, try to classify the longer sounds and say whose voice it is."
      ]
    },
    {
      "cell_type": "code",
      "metadata": {
        "id": "vPFXBvKAV90F",
        "outputId": "845a9e17-c2bd-45ab-e554-e9e6134abe6a",
        "colab": {
          "base_uri": "https://localhost:8080/",
          "height": 151
        }
      },
      "source": [
        "vec2name = {0: 'WANG ZHAOQING', 1: 'LI XIN', 2: 'ZHANG TINGYAO'}\n",
        "sound1 = AudioSegment.from_file(\"/content/drive/My Drive/Dataset/audio/wzq_validate.m4a\", \"m4a\")\n",
        "samples1 = np.array(sound1.get_array_of_samples())\n",
        "sample1 = samples1[::sound1.channels]\n",
        "index1 = np.argmax(model(torch.Tensor([Discrete_Fourier_Transform(sample1)[1:10]])).data.numpy(), axis=1)[0]\n",
        "sound2 = AudioSegment.from_file(\"/content/drive/My Drive/Dataset/audio/lx_validate.m4a\", \"m4a\")\n",
        "samples2 = np.array(sound2.get_array_of_samples())\n",
        "sample2 = samples2[::sound2.channels]\n",
        "index2 = np.argmax(model(torch.Tensor([Discrete_Fourier_Transform(sample2)[1:10]])).data.numpy(), axis=1)[0]\n",
        "sound3 = AudioSegment.from_file(\"/content/drive/My Drive/Dataset/audio/zty_validate.m4a\", \"m4a\")\n",
        "samples3 = np.array(sound3.get_array_of_samples())\n",
        "sample3 = samples2[::sound3.channels]\n",
        "index3 = np.argmax(model(torch.Tensor([Discrete_Fourier_Transform(sample3)[1:10]])).data.numpy(), axis=1)[0]\n",
        "print('''\n",
        "The 1st piece of test sound belongs to {}.\\n\n",
        "The 2nd piece of test sound belongs to {}.\\n\n",
        "The 3rd piece of test sound belongs to {}.\\n\n",
        "'''.format(vec2name[index1], vec2name[index2], vec2name[index3]))"
      ],
      "execution_count": null,
      "outputs": [
        {
          "output_type": "stream",
          "text": [
            "\n",
            "The 1st piece of test sound belongs to WANG ZHAOQING.\n",
            "\n",
            "The 2nd piece of test sound belongs to LI XIN.\n",
            "\n",
            "The 3rd piece of test sound belongs to ZHANG TINGYAO.\n",
            "\n",
            "\n"
          ],
          "name": "stdout"
        }
      ]
    }
  ]
}