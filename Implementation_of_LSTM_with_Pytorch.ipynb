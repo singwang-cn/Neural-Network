{
  "nbformat": 4,
  "nbformat_minor": 0,
  "metadata": {
    "colab": {
      "name": "Implementation of LSTM with Pytorch.ipynb",
      "provenance": [],
      "mount_file_id": "1_KiyJz_M7cPxk34cMviHprLBiamkuFMy",
      "authorship_tag": "ABX9TyMDEPr6hGWvu7Y9rXxEqQ58",
      "include_colab_link": true
    },
    "kernelspec": {
      "name": "python3",
      "display_name": "Python 3"
    }
  },
  "cells": [
    {
      "cell_type": "markdown",
      "metadata": {
        "id": "view-in-github",
        "colab_type": "text"
      },
      "source": [
        "<a href=\"https://colab.research.google.com/github/singwang-cn/Neural-Network/blob/master/Implementation_of_LSTM_with_Pytorch.ipynb\" target=\"_parent\"><img src=\"https://colab.research.google.com/assets/colab-badge.svg\" alt=\"Open In Colab\"/></a>"
      ]
    },
    {
      "cell_type": "code",
      "metadata": {
        "id": "3YHalD2kO7le"
      },
      "source": [
        "import numpy as np\n",
        "import pandas as pd\n",
        "import matplotlib.pyplot as plt\n",
        "import torch\n",
        "from torch import nn\n",
        "from torchvision import datasets, transforms"
      ],
      "execution_count": 162,
      "outputs": []
    },
    {
      "cell_type": "code",
      "metadata": {
        "id": "sVNi72vFX1Pg"
      },
      "source": [
        "rnn = torch.nn.LSTM(10, 20, 4, dropout=0.2)\n",
        "input = torch.randn(5, 3, 10)\n",
        "h0 = torch.randn(4, 3, 20)\n",
        "c0 = torch.randn(4, 3, 20)\n",
        "output, (hn, cn) = rnn(input, (h0, c0))"
      ],
      "execution_count": 269,
      "outputs": []
    },
    {
      "cell_type": "code",
      "metadata": {
        "id": "kpTJKtCiY7N-"
      },
      "source": [
        "data_path = '/content/drive/MyDrive/Dataset/sh stock/000001.csv'\r\n",
        "data_orig = pd.read_csv(data_path, encoding = 'gb18030', engine='python')['收盘价']"
      ],
      "execution_count": 124,
      "outputs": []
    },
    {
      "cell_type": "code",
      "metadata": {
        "id": "q9r06_w7r4Wj"
      },
      "source": [
        "sample_offset = 5\r\n",
        "sample_start = 742\r\n",
        "sample_end = 1473\r\n",
        "data_slice = data[sample_start:sample_end].tolist()\r\n",
        "data_slice.reverse()\r\n",
        "x = []\r\n",
        "for i in range(sample_end-sample_start-sample_offset-1):\r\n",
        "  sub_x = []\r\n",
        "  for num in data_slice[i:i+sample_offset]:\r\n",
        "    sub_x.append([num])\r\n",
        "  x.append(sub_x)\r\n",
        "y = []\r\n",
        "for num in data_slice[sample_offset+1:]:\r\n",
        "  y.append([num])\r\n",
        "\r\n",
        "train_x = torch.Tensor(np.array(x))\r\n",
        "train_y = torch.Tensor(np.array(y))"
      ],
      "execution_count": 184,
      "outputs": []
    },
    {
      "cell_type": "code",
      "metadata": {
        "colab": {
          "base_uri": "https://localhost:8080/"
        },
        "id": "PaasqsfsFT8-",
        "outputId": "6645603f-f936-40aa-f69a-212017fce12b"
      },
      "source": [
        "train_x.shape"
      ],
      "execution_count": 205,
      "outputs": [
        {
          "output_type": "execute_result",
          "data": {
            "text/plain": [
              "torch.Size([725, 5, 1])"
            ]
          },
          "metadata": {
            "tags": []
          },
          "execution_count": 205
        }
      ]
    },
    {
      "cell_type": "code",
      "metadata": {
        "id": "Pm70TGI75bXU"
      },
      "source": [
        "train_y"
      ],
      "execution_count": null,
      "outputs": []
    },
    {
      "cell_type": "code",
      "metadata": {
        "colab": {
          "base_uri": "https://localhost:8080/",
          "height": 283
        },
        "id": "MnZBmoZDaqel",
        "outputId": "79be0762-6928-43b0-c7f4-f13d391ae8d1"
      },
      "source": [
        "plt.plot(y)"
      ],
      "execution_count": 161,
      "outputs": [
        {
          "output_type": "execute_result",
          "data": {
            "text/plain": [
              "[<matplotlib.lines.Line2D at 0x7fc39f2108d0>]"
            ]
          },
          "metadata": {
            "tags": []
          },
          "execution_count": 161
        },
        {
          "output_type": "display_data",
          "data": {
            "image/png": "[encoded data removed]",
            "text/plain": [
              "<Figure size 432x288 with 1 Axes>"
            ]
          },
          "metadata": {
            "tags": [],
            "needs_background": "light"
          }
        }
      ]
    },
    {
      "cell_type": "code",
      "metadata": {
        "id": "AGC_sfLM7PIK"
      },
      "source": [
        "data_set = torch.utils.data.TensorDataset(train_x, train_y)\r\n",
        "data_loader = torch.utils.data.DataLoader(data_set, 5, shuffle=False, num_workers=1)"
      ],
      "execution_count": 230,
      "outputs": []
    },
    {
      "cell_type": "code",
      "metadata": {
        "id": "7nGuj6A3tUbv"
      },
      "source": [
        "class rnn(torch.nn.Module):\r\n",
        "    def __init__(self):\r\n",
        "        super(rnn, self).__init__()\r\n",
        "        self.rnn = torch.nn.LSTM(\r\n",
        "            input_size=1,\r\n",
        "            hidden_size=32,\r\n",
        "            num_layers=5,\r\n",
        "            batch_first=False,\r\n",
        "        )\r\n",
        "        self.linear = torch.nn.Linear(32, 1)\r\n",
        "\r\n",
        "    def forward(self, x):\r\n",
        "        lstm_out, (h_n, c_n) = self.rnn(x, None)\r\n",
        "        out = self.linear(lstm_out[:, -1, :])\r\n",
        "        return out\r\n",
        "model = rnn()\r\n",
        "\r\n",
        "\r\n",
        "criterion = nn.MSELoss()\r\n",
        "optimizer = torch.optim.Adam(model.parameters(), lr=0.01)"
      ],
      "execution_count": 311,
      "outputs": []
    },
    {
      "cell_type": "code",
      "metadata": {
        "id": "ic2nNC25Trc1"
      },
      "source": [
        "class lstm(nn.Module):\r\n",
        "    def __init__(self,input_size,hidden_size,output_size=1,num_layer=2):\r\n",
        "        super(lstm,self).__init__()\r\n",
        "        self.layer1 = nn.LSTM(input_size,hidden_size,num_layer)\r\n",
        "        self.layer2 = nn.Linear(hidden_size,output_size)\r\n",
        "    \r\n",
        "    def forward(self,x):\r\n",
        "        x,_ = self.layer1(x)\r\n",
        "        s,b,h = x.size()\r\n",
        "        x = x.view(s*b,h)\r\n",
        "        x = self.layer2(x)\r\n",
        "        x = x.view(s,b,-1)\r\n",
        "        return x\r\n",
        "\r\n",
        "model = lstm(1, 32, 1, 5)\r\n",
        "criterion = nn.MSELoss()\r\n",
        "optimizer = torch.optim.Adam(model.parameters(), lr=0.01)"
      ],
      "execution_count": 305,
      "outputs": []
    },
    {
      "cell_type": "code",
      "metadata": {
        "id": "E-TyU-1bu0GF"
      },
      "source": [
        "for epoch in range(150):\r\n",
        "  for step, (x_set, y_set) in enumerate(data_loader):\r\n",
        "    \r\n",
        "    y_pre = model(x_set)\r\n",
        "    loss = criterion(y_pre, y_set)\r\n",
        "\r\n",
        "    optimizer.zero_grad()\r\n",
        "    loss.backward()\r\n",
        "    optimizer.step()\r\n",
        "    \r\n",
        "    if step % 100 == 0:\r\n",
        "      print('{:<4}{:<6}' .format(epoch, step), loss.item())"
      ],
      "execution_count": null,
      "outputs": []
    },
    {
      "cell_type": "code",
      "metadata": {
        "id": "qUCcpJRZAnVr"
      },
      "source": [
        "train_x.shape"
      ],
      "execution_count": null,
      "outputs": []
    },
    {
      "cell_type": "code",
      "metadata": {
        "id": "8W7yh3gudA4j"
      },
      "source": [
        "input = torch.randn(725, 5, 1)\r\n",
        "dami_y = torch.randn(725, 1, 1)\r\n",
        "dami_y_list = []\r\n",
        "for i in range(dami_y.shape[0]):\r\n",
        "  dami_y_list.append(dami_y.tolist()[i][0])"
      ],
      "execution_count": 294,
      "outputs": []
    },
    {
      "cell_type": "code",
      "metadata": {
        "colab": {
          "base_uri": "https://localhost:8080/",
          "height": 283
        },
        "id": "fll7Awk5fsxf",
        "outputId": "44ef81dc-8a22-48c1-98aa-05c5ef07f385"
      },
      "source": [
        "plt.plot(dami_y_list)"
      ],
      "execution_count": 295,
      "outputs": [
        {
          "output_type": "execute_result",
          "data": {
            "text/plain": [
              "[<matplotlib.lines.Line2D at 0x7fc39b19a5f8>]"
            ]
          },
          "metadata": {
            "tags": []
          },
          "execution_count": 295
        },
        {
          "output_type": "display_data",
          "data": {
            "image/png": "[encoded data removed]",
            "text/plain": [
              "<Figure size 432x288 with 1 Axes>"
            ]
          },
          "metadata": {
            "tags": [],
            "needs_background": "light"
          }
        }
      ]
    },
    {
      "cell_type": "code",
      "metadata": {
        "id": "ADwJb09-hr-h"
      },
      "source": [
        "data_set = torch.utils.data.TensorDataset(input, dami_y)\r\n",
        "data_loader = torch.utils.data.DataLoader(data_set, 5, shuffle=False, num_workers=1)\r\n",
        "for epoch in range(50):\r\n",
        "  for step, (x_set, y_set) in enumerate(data_loader):\r\n",
        "    \r\n",
        "    y_pre = model(x_set)\r\n",
        "    loss = criterion(y_pre, y_set)\r\n",
        "\r\n",
        "    optimizer.zero_grad()\r\n",
        "    loss.backward()\r\n",
        "    optimizer.step()\r\n",
        "    \r\n",
        "    if step % 100 == 0:\r\n",
        "      print('{:<4}{:<6}' .format(epoch, step), loss.item())"
      ],
      "execution_count": null,
      "outputs": []
    },
    {
      "cell_type": "code",
      "metadata": {
        "id": "aZnsS8qYhCel"
      },
      "source": [
        "pre_dami_y = model(input)\r\n",
        "pre_dami_y_list = []\r\n",
        "for i in range(pre_dami_y.shape[0]):\r\n",
        "  pre_dami_y_list.append(pre_dami_y.tolist()[i][0])"
      ],
      "execution_count": 308,
      "outputs": []
    },
    {
      "cell_type": "code",
      "metadata": {
        "colab": {
          "base_uri": "https://localhost:8080/",
          "height": 283
        },
        "id": "3XDXps1PhJ3T",
        "outputId": "36c8a752-4171-4343-8fef-ac13a8c04e3f"
      },
      "source": [
        "plt.plot(pre_dami_y_list)"
      ],
      "execution_count": 310,
      "outputs": [
        {
          "output_type": "execute_result",
          "data": {
            "text/plain": [
              "[<matplotlib.lines.Line2D at 0x7fc39ae185c0>]"
            ]
          },
          "metadata": {
            "tags": []
          },
          "execution_count": 310
        },
        {
          "output_type": "display_data",
          "data": {
            "image/png": "[encoded data removed]",
            "text/plain": [
              "<Figure size 432x288 with 1 Axes>"
            ]
          },
          "metadata": {
            "tags": [],
            "needs_background": "light"
          }
        }
      ]
    },
    {
      "cell_type": "code",
      "metadata": {
        "id": "4IOCaXLg8U-d"
      },
      "source": [
        "pre_y = model(input)"
      ],
      "execution_count": 283,
      "outputs": []
    },
    {
      "cell_type": "code",
      "metadata": {
        "id": "TX_wC7U2_8Cb"
      },
      "source": [
        "pre_y.tolist()"
      ],
      "execution_count": null,
      "outputs": []
    },
    {
      "cell_type": "code",
      "metadata": {
        "id": "9jGMvLyq8hYP"
      },
      "source": [
        "pre_y_list = []\r\n",
        "for i in range(pre_y.shape[0]):\r\n",
        "  pre_y_list.append(pre_y.tolist()[i][0][0])"
      ],
      "execution_count": 244,
      "outputs": []
    },
    {
      "cell_type": "code",
      "metadata": {
        "id": "hsuOGmDTpqsx"
      },
      "source": [
        "pre_y_list"
      ],
      "execution_count": null,
      "outputs": []
    },
    {
      "cell_type": "code",
      "metadata": {
        "colab": {
          "base_uri": "https://localhost:8080/",
          "height": 283
        },
        "id": "R_MI5ilKpunM",
        "outputId": "1c1265e2-94aa-4db2-9f9a-0fb1788f9fab"
      },
      "source": [
        "plt.plot(pre_y_list)\r\n",
        "plt.plot(y)"
      ],
      "execution_count": 246,
      "outputs": [
        {
          "output_type": "execute_result",
          "data": {
            "text/plain": [
              "[<matplotlib.lines.Line2D at 0x7fc39f35c6a0>]"
            ]
          },
          "metadata": {
            "tags": []
          },
          "execution_count": 246
        },
        {
          "output_type": "display_data",
          "data": {
            "image/png": "[encoded data removed]",
            "text/plain": [
              "<Figure size 432x288 with 1 Axes>"
            ]
          },
          "metadata": {
            "tags": [],
            "needs_background": "light"
          }
        }
      ]
    },
    {
      "cell_type": "code",
      "metadata": {
        "id": "yRYojFHUmoO4"
      },
      "source": [
        "import numpy as np\r\n",
        "import pandas as pd\r\n",
        "import matplotlib.pyplot as plt"
      ],
      "execution_count": 2,
      "outputs": []
    },
    {
      "cell_type": "code",
      "metadata": {
        "colab": {
          "base_uri": "https://localhost:8080/",
          "height": 285
        },
        "id": "std800AAmspF",
        "outputId": "6e3dd124-a231-4a64-bee7-cc5073e22bdd"
      },
      "source": [
        "data_csv = pd.read_csv('/content/drive/MyDrive/Dataset/sh stock/000001.csv', encoding = 'gb18030',usecols=[3])\r\n",
        "#data_list = np.array(data_csv).tolist()[742:1473]\r\n",
        "data_list = np.array(data_csv).tolist()[256:742]\r\n",
        "#data_list = np.array(data_csv).tolist()[499:986]\r\n",
        "data_list.reverse()\r\n",
        "data_csv = pd.DataFrame(data_list)\r\n",
        "plt.plot(data_csv)"
      ],
      "execution_count": 54,
      "outputs": [
        {
          "output_type": "execute_result",
          "data": {
            "text/plain": [
              "[<matplotlib.lines.Line2D at 0x7f70f46cd208>]"
            ]
          },
          "metadata": {
            "tags": []
          },
          "execution_count": 54
        },
        {
          "output_type": "display_data",
          "data": {
            "image/png": "[encoded data removed]",
            "text/plain": [
              "<Figure size 432x288 with 1 Axes>"
            ]
          },
          "metadata": {
            "tags": [],
            "needs_background": "light"
          }
        }
      ]
    },
    {
      "cell_type": "code",
      "metadata": {
        "id": "FB9qLGc7nEFb"
      },
      "source": [
        "data_csv = data_csv.dropna()  # 滤除缺失数据\r\n",
        "dataset = data_csv.values   # 获得csv的值\r\n",
        "dataset = dataset.astype('float32')\r\n",
        "max_value = np.max(dataset)  # 获得最大值\r\n",
        "min_value = np.min(dataset)  # 获得最小值\r\n",
        "scalar = max_value - min_value  # 获得间隔数量\r\n",
        "dataset = list(map(lambda x: x / scalar, dataset)) # 归一化"
      ],
      "execution_count": 55,
      "outputs": []
    },
    {
      "cell_type": "code",
      "metadata": {
        "id": "pD2HFncbnLfo"
      },
      "source": [
        "def create_dataset(dataset, look_back=2):\r\n",
        "    dataX, dataY = [], []\r\n",
        "    for i in range(len(dataset) - look_back):\r\n",
        "        a = dataset[i:(i + look_back)]\r\n",
        "        dataX.append(a)\r\n",
        "        dataY.append(dataset[i + look_back])\r\n",
        "    return np.array(dataX), np.array(dataY)\r\n",
        "\r\n",
        "# 创建好输入输出\r\n",
        "data_X, data_Y = create_dataset(dataset)"
      ],
      "execution_count": 57,
      "outputs": []
    },
    {
      "cell_type": "code",
      "metadata": {
        "id": "BfUMRp25nPXO"
      },
      "source": [
        "# 划分训练集和测试集，70% 作为训练集\r\n",
        "train_size = int(len(data_X) * 0.7)\r\n",
        "test_size = len(data_X) - train_size\r\n",
        "train_X = data_X[:train_size]\r\n",
        "train_Y = data_Y[:train_size]\r\n",
        "test_X = data_X[train_size:]\r\n",
        "test_Y = data_Y[train_size:]"
      ],
      "execution_count": 39,
      "outputs": []
    },
    {
      "cell_type": "code",
      "metadata": {
        "id": "hsuhcruVnSLX"
      },
      "source": [
        "import torch\r\n",
        "\r\n",
        "train_X = train_X.reshape(-1, 1, 2)\r\n",
        "train_Y = train_Y.reshape(-1, 1, 1)\r\n",
        "test_X = test_X.reshape(-1, 1, 2)\r\n",
        "\r\n",
        "train_x = torch.from_numpy(train_X)\r\n",
        "train_y = torch.from_numpy(train_Y)\r\n",
        "test_x = torch.from_numpy(test_X)"
      ],
      "execution_count": 40,
      "outputs": []
    },
    {
      "cell_type": "code",
      "metadata": {
        "id": "MWR7fR2qnVPj"
      },
      "source": [
        "from torch import nn\r\n",
        "from torch.autograd import Variable\r\n",
        "\r\n",
        "class lstm(nn.Module):\r\n",
        "    def __init__(self,input_size=2,hidden_size=4,output_size=1,num_layer=2):\r\n",
        "        super(lstm,self).__init__()\r\n",
        "        self.layer1 = nn.LSTM(input_size,hidden_size,num_layer,dropout=0.2)\r\n",
        "        self.layer2 = nn.Linear(hidden_size,output_size)\r\n",
        "    \r\n",
        "    def forward(self,x):\r\n",
        "        x,_ = self.layer1(x)\r\n",
        "        s,b,h = x.size()\r\n",
        "        x = x.view(s*b,h)\r\n",
        "        x = self.layer2(x)\r\n",
        "        x = x.view(s,b,-1)\r\n",
        "        return x\r\n",
        "\r\n",
        "model = lstm(2, 4, 1, 2)"
      ],
      "execution_count": 12,
      "outputs": []
    },
    {
      "cell_type": "code",
      "metadata": {
        "id": "eM36YzvonYjr"
      },
      "source": [
        "criterion = nn.MSELoss()\r\n",
        "optimizer = torch.optim.Adam(model.parameters(), lr=1e-2)"
      ],
      "execution_count": 13,
      "outputs": []
    },
    {
      "cell_type": "code",
      "metadata": {
        "colab": {
          "base_uri": "https://localhost:8080/"
        },
        "id": "7crp127unazF",
        "outputId": "f2f50565-7632-444e-db81-dc2d43e88d83"
      },
      "source": [
        "# 开始训练\r\n",
        "for e in range(1000):\r\n",
        "    var_x = Variable(train_x)\r\n",
        "    var_y = Variable(train_y)\r\n",
        "    # 前向传播\r\n",
        "    out = model(var_x)\r\n",
        "    loss = criterion(out, var_y)\r\n",
        "    # 反向传播\r\n",
        "    optimizer.zero_grad()\r\n",
        "    loss.backward()\r\n",
        "    optimizer.step()\r\n",
        "    \r\n",
        "    if (e + 1) % 100 == 0: # 每 100 次输出结果\r\n",
        "        print('Epoch: {}, Loss: {:.5f}'.format(e + 1, loss.item()))"
      ],
      "execution_count": 14,
      "outputs": [
        {
          "output_type": "stream",
          "text": [
            "Epoch: 100, Loss: 0.04370\n",
            "Epoch: 200, Loss: 0.04286\n",
            "Epoch: 300, Loss: 0.01212\n",
            "Epoch: 400, Loss: 0.00553\n",
            "Epoch: 500, Loss: 0.00317\n",
            "Epoch: 600, Loss: 0.00355\n",
            "Epoch: 700, Loss: 0.00288\n",
            "Epoch: 800, Loss: 0.00256\n",
            "Epoch: 900, Loss: 0.00199\n",
            "Epoch: 1000, Loss: 0.00359\n"
          ],
          "name": "stdout"
        }
      ]
    },
    {
      "cell_type": "code",
      "metadata": {
        "id": "Ugl7mjixngSh"
      },
      "source": [
        "model = model.eval() # 转换成测试模式\r\n",
        "\r\n",
        "data_X = data_X.reshape(-1, 1, 2)\r\n",
        "data_X = torch.from_numpy(data_X)\r\n",
        "var_data = Variable(data_X)\r\n",
        "pred_test = model(var_data) # 测试集的预测结果\r\n",
        "# 改变输出的格式\r\n",
        "pred_test = pred_test.view(-1).data.numpy()"
      ],
      "execution_count": 58,
      "outputs": []
    },
    {
      "cell_type": "code",
      "metadata": {
        "colab": {
          "base_uri": "https://localhost:8080/",
          "height": 283
        },
        "id": "XssEFYLankLM",
        "outputId": "96a89993-b1ec-4559-b4a7-0e06d767d551"
      },
      "source": [
        "# 画出实际结果和预测的结果\r\n",
        "plt.plot(pred_test, 'r', label='prediction')\r\n",
        "plt.plot(dataset, 'b', label='real')\r\n",
        "plt.legend(loc='best')"
      ],
      "execution_count": 59,
      "outputs": [
        {
          "output_type": "execute_result",
          "data": {
            "text/plain": [
              "<matplotlib.legend.Legend at 0x7f70f45ea4e0>"
            ]
          },
          "metadata": {
            "tags": []
          },
          "execution_count": 59
        },
        {
          "output_type": "display_data",
          "data": {
            "image/png": "[encoded data removed]",
            "text/plain": [
              "<Figure size 432x288 with 1 Axes>"
            ]
          },
          "metadata": {
            "tags": [],
            "needs_background": "light"
          }
        }
      ]
    },
    {
      "cell_type": "code",
      "metadata": {
        "colab": {
          "base_uri": "https://localhost:8080/"
        },
        "id": "Uy1KnAoWyWCz",
        "outputId": "7133d373-4f08-45c8-cc91-b1968de31884"
      },
      "source": [
        "sum = 0\r\n",
        "for i in range(pred_test.shape[0]):\r\n",
        "  sum += abs(dataset[i][0]-pred_test[i])\r\n",
        "sum_value = 0\r\n",
        "for i in range(pred_test.shape[0]):\r\n",
        "  sum_value += dataset[i][0]\r\n",
        "print(sum/sum_value)"
      ],
      "execution_count": 27,
      "outputs": [
        {
          "output_type": "stream",
          "text": [
            "0.01618096044091836\n"
          ],
          "name": "stdout"
        }
      ]
    },
    {
      "cell_type": "code",
      "metadata": {
        "colab": {
          "base_uri": "https://localhost:8080/"
        },
        "id": "pqrxkyFy947D",
        "outputId": "7e7f8b8e-2f13-410c-fd98-00a4670533d7"
      },
      "source": [
        "pred_test.shape"
      ],
      "execution_count": 23,
      "outputs": [
        {
          "output_type": "execute_result",
          "data": {
            "text/plain": [
              "(729,)"
            ]
          },
          "metadata": {
            "tags": []
          },
          "execution_count": 23
        }
      ]
    }
  ]
}