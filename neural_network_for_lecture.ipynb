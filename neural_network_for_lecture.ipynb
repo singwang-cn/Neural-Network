{
  "nbformat": 4,
  "nbformat_minor": 0,
  "metadata": {
    "colab": {
      "name": "neural_network_for_lecture.ipynb",
      "provenance": [],
      "collapsed_sections": [],
      "mount_file_id": "1PEgi-4E7jx4NolReOFZbvg5Nnek8xvqZ",
      "authorship_tag": "ABX9TyOrOEIl+v7TlpWrlgQnuQIY",
      "include_colab_link": true
    },
    "kernelspec": {
      "name": "python3",
      "display_name": "Python 3"
    }
  },
  "cells": [
    {
      "cell_type": "markdown",
      "metadata": {
        "id": "view-in-github",
        "colab_type": "text"
      },
      "source": [
        "<a href=\"https://colab.research.google.com/github/singwang-cn/Neural-Network/blob/master/neural_network_for_lecture.ipynb\" target=\"_parent\"><img src=\"https://colab.research.google.com/assets/colab-badge.svg\" alt=\"Open In Colab\"/></a>"
      ]
    },
    {
      "cell_type": "code",
      "metadata": {
        "id": "MQt386vjNWsr",
        "colab_type": "code",
        "colab": {}
      },
      "source": [
        "import struct\n",
        "import numpy as np\n",
        "import matplotlib.pyplot as plt"
      ],
      "execution_count": null,
      "outputs": []
    },
    {
      "cell_type": "code",
      "metadata": {
        "id": "cdlhHYpFOPFY",
        "colab_type": "code",
        "colab": {}
      },
      "source": [
        "def load_image(datafile=''):\n",
        "  path = '/content/drive/My Drive/Dataset/mnist dataset/'+datafile\n",
        "  data = open(path, 'rb').read()\n",
        "  magic_number, num_image, num_row, num_col = struct.unpack_from('>iiii', data, 0)\n",
        "  offset = 16\n",
        "  image_list = []\n",
        "  for i in range(num_image):\n",
        "    image = np.array(struct.unpack_from('>'+str(num_row*num_col)+'B', data, offset)).reshape(num_row,num_col)\n",
        "    image_list.append(image)\n",
        "    offset += int(num_row*num_col)\n",
        "  return image_list\n",
        "\n",
        "def load_label(datafile=''):\n",
        "  path = '/content/drive/My Drive/Dataset/mnist dataset/'+datafile\n",
        "  data = open(path, 'rb').read()\n",
        "  magic_number, num_label = struct.unpack_from('>ii', data, 0)\n",
        "  offset = 8\n",
        "  label_list = []\n",
        "  for i in range(num_label):\n",
        "    label = struct.unpack_from('>B', data, offset)\n",
        "    label_list.append(label[0])\n",
        "    offset += 1\n",
        "  return label_list\n",
        "\n",
        "image = load_image('t10k-images.idx3-ubyte')\n",
        "label = load_label('t10k-labels.idx1-ubyte')"
      ],
      "execution_count": null,
      "outputs": []
    },
    {
      "cell_type": "code",
      "metadata": {
        "id": "2TZXtXGwktcy",
        "colab_type": "code",
        "colab": {
          "base_uri": "https://localhost:8080/",
          "height": 282
        },
        "outputId": "e06ff497-6547-4517-dad1-f796559e370a"
      },
      "source": [
        "plt.imshow(image[0])"
      ],
      "execution_count": null,
      "outputs": [
        {
          "output_type": "execute_result",
          "data": {
            "text/plain": [
              "<matplotlib.image.AxesImage at 0x7f8719f4ea90>"
            ]
          },
          "metadata": {
            "tags": []
          },
          "execution_count": 43
        },
        {
          "output_type": "display_data",
          "data": {
            "image/png": "[encoded data removed]",
            "text/plain": [
              "<Figure size 432x288 with 1 Axes>"
            ]
          },
          "metadata": {
            "tags": [],
            "needs_background": "light"
          }
        }
      ]
    },
    {
      "cell_type": "code",
      "metadata": {
        "id": "eUUex1j4v4gH",
        "colab_type": "code",
        "colab": {}
      },
      "source": [
        "def sigmoid(x):\n",
        "  return 1.0 / (1.0 + np.exp(-x))"
      ],
      "execution_count": null,
      "outputs": []
    },
    {
      "cell_type": "code",
      "metadata": {
        "id": "HMr-USWWy30v",
        "colab_type": "code",
        "colab": {}
      },
      "source": [
        "def relu(x):\n",
        "  return np.maximum(0, x)"
      ],
      "execution_count": null,
      "outputs": []
    },
    {
      "cell_type": "code",
      "metadata": {
        "id": "AU21pQ1wxO3Q",
        "colab_type": "code",
        "colab": {}
      },
      "source": [
        "def softmax(a):\n",
        "  c = np.max(a)\n",
        "  e_a = np.exp(a-c)\n",
        "  sum_e_a = np.sum(e_a)\n",
        "  return e_a / sum_e_a"
      ],
      "execution_count": null,
      "outputs": []
    },
    {
      "cell_type": "code",
      "metadata": {
        "id": "PRwYSMVQTFg6",
        "colab_type": "code",
        "colab": {}
      },
      "source": [
        "'''\n",
        "def cross_entropy_error(y, y_hat):\n",
        "  d = 1e-7\n",
        "  if y.ndim==1:\n",
        "    y = y.reshape(1,y.size)\n",
        "  n = y.shape[0]\n",
        "\n",
        "  return -np.sum(np.log(y[np.arange(n),y_hat]+d)) / n\n",
        "'''"
      ],
      "execution_count": null,
      "outputs": []
    },
    {
      "cell_type": "code",
      "metadata": {
        "id": "BuO_54On0LGe",
        "colab_type": "code",
        "colab": {}
      },
      "source": [
        "def cross_entropy_error(y, t):\n",
        "    if y.ndim == 1:\n",
        "        t = t.reshape(1, t.size)\n",
        "        y = y.reshape(1, y.size)\n",
        "        \n",
        "    # 教師データがone-hot-vectorの場合、正解ラベルのインデックスに変換\n",
        "    if t.size == y.size:\n",
        "        t = t.argmax(axis=1)\n",
        "             \n",
        "    batch_size = y.shape[0]\n",
        "    return -np.sum(np.log(y[np.arange(batch_size), t] + 1e-7)) / batch_size"
      ],
      "execution_count": null,
      "outputs": []
    },
    {
      "cell_type": "code",
      "metadata": {
        "id": "OLU9ZcyjqbNd",
        "colab_type": "code",
        "colab": {}
      },
      "source": [
        "def gradient(func, x):\n",
        "  h = 1e-4\n",
        "  grad = np.zeros_like(x)\n",
        "  if x.ndim==1:\n",
        "    for i in range(x.size):\n",
        "      x_i = x[i]\n",
        "      x[i] = x_i-h\n",
        "      y_l = func(x)\n",
        "      x[i] = x_i+h\n",
        "      y_r = func(x)\n",
        "      grad[i] = (y_r-y_l) / (2*h)\n",
        "      x[i] = x_i\n",
        "  else:\n",
        "    for i in range(x.shape[0]):\n",
        "      for j in range(x.shape[1]):\n",
        "        x_ij = x[i][j]\n",
        "        x[i][j] = x_ij-h\n",
        "        y_l = func(x)\n",
        "        x[i][j] = x_ij+h\n",
        "        y_r = func(x)\n",
        "        grad[i][j] = (y_r-y_l) / (2*h)\n",
        "        x[i][j] = x_ij\n",
        "  return grad"
      ],
      "execution_count": null,
      "outputs": []
    },
    {
      "cell_type": "code",
      "metadata": {
        "id": "pGxkZVUdwi-V",
        "colab_type": "code",
        "colab": {}
      },
      "source": [
        "def _numerical_gradient_1d(f, x):\n",
        "    h = 1e-4 # 0.0001\n",
        "    grad = np.zeros_like(x)\n",
        "    \n",
        "    for idx in range(x.size):\n",
        "        tmp_val = x[idx]\n",
        "        x[idx] = float(tmp_val) + h\n",
        "        fxh1 = f(x) # f(x+h)\n",
        "        \n",
        "        x[idx] = tmp_val - h \n",
        "        fxh2 = f(x) # f(x-h)\n",
        "        grad[idx] = (fxh1 - fxh2) / (2*h)\n",
        "        \n",
        "        x[idx] = tmp_val # 値を元に戻す\n",
        "        \n",
        "    return grad\n",
        "\n",
        "\n",
        "def numerical_gradient_2d(f, X):\n",
        "    if X.ndim == 1:\n",
        "        return _numerical_gradient_1d(f, X)\n",
        "    else:\n",
        "        grad = np.zeros_like(X)\n",
        "        \n",
        "        for idx, x in enumerate(X):\n",
        "            grad[idx] = _numerical_gradient_1d(f, x)\n",
        "        \n",
        "        return grad\n",
        "\n",
        "\n",
        "def numerical_gradient(f, x):\n",
        "    h = 1e-4 # 0.0001\n",
        "    grad = np.zeros_like(x)\n",
        "    \n",
        "    it = np.nditer(x, flags=['multi_index'], op_flags=['readwrite'])\n",
        "    while not it.finished:\n",
        "        idx = it.multi_index\n",
        "        tmp_val = x[idx]\n",
        "        x[idx] = tmp_val + h\n",
        "        fxh1 = f(x) # f(x+h)\n",
        "        \n",
        "        x[idx] = tmp_val - h \n",
        "        fxh2 = f(x) # f(x-h)\n",
        "        grad[idx] = (fxh1 - fxh2) / (2*h)\n",
        "        \n",
        "        x[idx] = tmp_val # 値を元に戻す\n",
        "        it.iternext()   \n",
        "        \n",
        "    return grad"
      ],
      "execution_count": null,
      "outputs": []
    },
    {
      "cell_type": "code",
      "metadata": {
        "id": "OqyLF1LlAWgJ",
        "colab_type": "code",
        "colab": {}
      },
      "source": [
        "def gradient_descent(func, x_i, lr=0.01, step=100):\n",
        "  x = x_i\n",
        "  for i in range(step):\n",
        "    g = gradient(func, x)\n",
        "    x -= lr*g\n",
        "  return x"
      ],
      "execution_count": null,
      "outputs": []
    },
    {
      "cell_type": "code",
      "metadata": {
        "id": "pv0wCx-yTM8i",
        "colab_type": "code",
        "colab": {}
      },
      "source": [
        "class neural_network():\n",
        "  def __init__(self, input_size, hidden_size, output_size, weight_init=0.01):\n",
        "    self.parameters = {}\n",
        "    self.parameters['w1'] = weight_init * np.random.rand(input_size, hidden_size)\n",
        "    self.parameters['b1'] = np.zeros(hidden_size)\n",
        "    self.parameters['w2'] = weight_init * np.random.rand(hidden_size, output_size)\n",
        "    self.parameters['b2'] = np.zeros(output_size)\n",
        "\n",
        "  def recognize(self, x):\n",
        "    w1,w2 = self.parameters['w1'],self.parameters['w2']\n",
        "    b1,b2 = self.parameters['b1'],self.parameters['b2']\n",
        "    x = x /255\n",
        "    a1 = np.dot(x,w1) + b1\n",
        "    z = sigmoid(a1)\n",
        "    a2 = np.dot(z,w2) + b2\n",
        "    y = a2\n",
        "    \n",
        "    return y\n",
        "\n",
        "  def cost_function(self, x, label):\n",
        "    y = self.recognize(x)\n",
        "    print(y)\n",
        "    d = 1e-7\n",
        "    cee = -np.log(y[label]+d)\n",
        "\n",
        "    return cee\n",
        "  \n",
        "  def gradient(self, x, label):\n",
        "    h = 1e-4\n",
        "    grads = {}\n",
        "    for key in ('w1','b1','w2','b2'):\n",
        "      grads[key] = np.zeros(self.parameters[key].size)\n",
        "      index = 0\n",
        "      for p in self.parameters[key]:\n",
        "        p_value = p\n",
        "        p = p_value+h\n",
        "        loss_p = self.cost_function(x, label)\n",
        "        p = p_value-h\n",
        "        loss_n = self.cost_function(x, label)\n",
        "        p = p_value\n",
        "        grads[key][index] = (loss_p-loss_n) / (2*h)\n",
        "        index += 1\n",
        "      grads[key].reshape(self.parameters[key].shape)\n",
        "\n",
        "    return grads\n",
        "\n",
        "  "
      ],
      "execution_count": null,
      "outputs": []
    },
    {
      "cell_type": "code",
      "metadata": {
        "id": "Ce17_QXQgX_q",
        "colab_type": "code",
        "colab": {}
      },
      "source": [
        "nn = neural_network(784, 100, 10)"
      ],
      "execution_count": null,
      "outputs": []
    },
    {
      "cell_type": "code",
      "metadata": {
        "id": "CkaMdG21vXZj",
        "colab_type": "code",
        "colab": {
          "base_uri": "https://localhost:8080/",
          "height": 50
        },
        "outputId": "ceba39c4-a34b-4a8e-e0ab-0b3a5c921509"
      },
      "source": [
        "nn.recognize(image[0].flatten())"
      ],
      "execution_count": null,
      "outputs": [
        {
          "output_type": "execute_result",
          "data": {
            "text/plain": [
              "array([0.29750184, 0.3261874 , 0.28727075, 0.31427634, 0.31290784,\n",
              "       0.30062749, 0.29924688, 0.30684649, 0.33228438, 0.30851027])"
            ]
          },
          "metadata": {
            "tags": []
          },
          "execution_count": 94
        }
      ]
    },
    {
      "cell_type": "code",
      "metadata": {
        "id": "kVScRZ8tpdfj",
        "colab_type": "code",
        "colab": {
          "base_uri": "https://localhost:8080/",
          "height": 67
        },
        "outputId": "f4e110c0-4006-49d1-9ffd-25b63e959507"
      },
      "source": [
        "nn.cost_function(image[0].flatten(),5)"
      ],
      "execution_count": null,
      "outputs": [
        {
          "output_type": "stream",
          "text": [
            "[0.29750184 0.3261874  0.28727075 0.31427634 0.31290784 0.30062749\n",
            " 0.29924688 0.30684649 0.33228438 0.30851027]\n"
          ],
          "name": "stdout"
        },
        {
          "output_type": "execute_result",
          "data": {
            "text/plain": [
              "1.2018830286576763"
            ]
          },
          "metadata": {
            "tags": []
          },
          "execution_count": 95
        }
      ]
    },
    {
      "cell_type": "code",
      "metadata": {
        "id": "4_GIk5UI4ZlT",
        "colab_type": "code",
        "colab": {
          "base_uri": "https://localhost:8080/",
          "height": 151
        },
        "outputId": "9cd1c6cd-3ef5-415f-c225-04cb6f4d30ae"
      },
      "source": [
        "nn.parameters['w1'][350]"
      ],
      "execution_count": null,
      "outputs": [
        {
          "output_type": "execute_result",
          "data": {
            "text/plain": [
              "array([0.1, 0.1, 0.1, 0.1, 0.1, 0.1, 0.1, 0.1, 0.1, 0.1, 0.1, 0.1, 0.1,\n",
              "       0.1, 0.1, 0.1, 0.1, 0.1, 0.1, 0.1, 0.1, 0.1, 0.1, 0.1, 0.1, 0.1,\n",
              "       0.1, 0.1, 0.1, 0.1, 0.1, 0.1, 0.1, 0.1, 0.1, 0.1, 0.1, 0.1, 0.1,\n",
              "       0.1, 0.1, 0.1, 0.1, 0.1, 0.1, 0.1, 0.1, 0.1, 0.1, 0.1, 0.1, 0.1,\n",
              "       0.1, 0.1, 0.1, 0.1, 0.1, 0.1, 0.1, 0.1, 0.1, 0.1, 0.1, 0.1, 0.1,\n",
              "       0.1, 0.1, 0.1, 0.1, 0.1, 0.1, 0.1, 0.1, 0.1, 0.1, 0.1, 0.1, 0.1,\n",
              "       0.1, 0.1, 0.1, 0.1, 0.1, 0.1, 0.1, 0.1, 0.1, 0.1, 0.1, 0.1, 0.1,\n",
              "       0.1, 0.1, 0.1, 0.1, 0.1, 0.1, 0.1, 0.1, 0.1])"
            ]
          },
          "metadata": {
            "tags": []
          },
          "execution_count": 99
        }
      ]
    },
    {
      "cell_type": "code",
      "metadata": {
        "id": "fnvbAh05p1U8",
        "colab_type": "code",
        "colab": {}
      },
      "source": [
        "nn.parameters['w1'] = np.zeros([784, 100])"
      ],
      "execution_count": null,
      "outputs": []
    },
    {
      "cell_type": "code",
      "metadata": {
        "id": "_-wNr9Irv4op",
        "colab_type": "code",
        "colab": {
          "base_uri": "https://localhost:8080/",
          "height": 50
        },
        "outputId": "48547094-728d-4349-b3be-8f0a76893961"
      },
      "source": [
        "nn.recognize(image[0].flatten())"
      ],
      "execution_count": null,
      "outputs": [
        {
          "output_type": "execute_result",
          "data": {
            "text/plain": [
              "array([0.25247878, 0.27667957, 0.24387259, 0.26651131, 0.26535459,\n",
              "       0.25495241, 0.25386842, 0.26024972, 0.28207146, 0.26171552])"
            ]
          },
          "metadata": {
            "tags": []
          },
          "execution_count": 101
        }
      ]
    },
    {
      "cell_type": "code",
      "metadata": {
        "id": "DiMlWlct57cs",
        "colab_type": "code",
        "colab": {
          "base_uri": "https://localhost:8080/",
          "height": 67
        },
        "outputId": "25a1cdd0-72d8-482d-c278-19811905cc7d"
      },
      "source": [
        "nn.cost_function(image[0].flatten(),5)"
      ],
      "execution_count": null,
      "outputs": [
        {
          "output_type": "stream",
          "text": [
            "[0.10013786 0.09855312 0.10185665 0.10037016 0.09945078 0.09916065\n",
            " 0.09922217 0.09963029 0.1007471  0.10087121]\n"
          ],
          "name": "stdout"
        },
        {
          "output_type": "execute_result",
          "data": {
            "text/plain": [
              "2.3110130403974822"
            ]
          },
          "metadata": {
            "tags": []
          },
          "execution_count": 82
        }
      ]
    },
    {
      "cell_type": "code",
      "metadata": {
        "id": "-BqPi5Tbycaw",
        "colab_type": "code",
        "colab": {}
      },
      "source": [
        "nn.gradient(image[0].flatten(),5)"
      ],
      "execution_count": null,
      "outputs": []
    },
    {
      "cell_type": "code",
      "metadata": {
        "id": "JcuuBhQuGjqd",
        "colab_type": "code",
        "colab": {}
      },
      "source": [
        "nn = neural_network(784, 100, 10)\n",
        "loss_list = []\n",
        "for i in range(1):\n",
        "  grad = nn.gradient(image[i].flatten(), np.array([label[i]]))\n",
        "  for key in ('w1','b1','w2','b2'):\n",
        "    nn.parameters[key] -= 0.1*grad[key]\n",
        "\n",
        "  loss = nn.cost_function(image[i].flatten(), np.array([label[i]]))\n",
        "  loss_list.append(loss)\n"
      ],
      "execution_count": null,
      "outputs": []
    },
    {
      "cell_type": "code",
      "metadata": {
        "id": "h30a39jx7fa9",
        "colab_type": "code",
        "colab": {}
      },
      "source": [
        "loss_list"
      ],
      "execution_count": null,
      "outputs": []
    },
    {
      "cell_type": "code",
      "metadata": {
        "id": "XAvyp3jP9dGW",
        "colab_type": "code",
        "colab": {}
      },
      "source": [
        "v = np.random.rand(5)\n",
        "w1 = np.matrix(np.random.rand(5,1))\n",
        "w2 = np.matrix(np.random.rand(5,1))\n",
        "\n",
        "a = (v * w1)\n",
        "w1[0][0] += 0.001\n",
        "b = (v * w1)\n",
        "\n",
        "\n",
        "\n",
        "  "
      ],
      "execution_count": null,
      "outputs": []
    },
    {
      "cell_type": "code",
      "metadata": {
        "id": "cX8M-ORgJJUc",
        "colab_type": "code",
        "colab": {
          "base_uri": "https://localhost:8080/",
          "height": 34
        },
        "outputId": "6f5a766b-59a9-4604-ac63-a7b03cb437b4"
      },
      "source": [
        "a-b"
      ],
      "execution_count": null,
      "outputs": [
        {
          "output_type": "execute_result",
          "data": {
            "text/plain": [
              "matrix([[-0.00057428]])"
            ]
          },
          "metadata": {
            "tags": []
          },
          "execution_count": 43
        }
      ]
    }
  ]
}