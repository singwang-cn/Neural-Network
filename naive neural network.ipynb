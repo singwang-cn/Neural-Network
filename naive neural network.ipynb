{
  "nbformat": 4,
  "nbformat_minor": 0,
  "metadata": {
    "colab": {
      "name": "neural_network_for_lecture.ipynb",
      "provenance": [],
      "collapsed_sections": [],
      "mount_file_id": "1PEgi-4E7jx4NolReOFZbvg5Nnek8xvqZ",
      "authorship_tag": "ABX9TyO6gzx2Fcf/4pYWqHS1qIeD",
      "include_colab_link": true
    },
    "kernelspec": {
      "name": "python3",
      "display_name": "Python 3"
    }
  },
  "cells": [
    {
      "cell_type": "markdown",
      "metadata": {
        "id": "view-in-github",
        "colab_type": "text"
      },
      "source": [
        "<a href=\"https://colab.research.google.com/github/singwang-cn/Neural-Network/blob/master/neural_network_for_lecture.ipynb\" target=\"_parent\"><img src=\"https://colab.research.google.com/assets/colab-badge.svg\" alt=\"Open In Colab\"/></a>"
      ]
    },
    {
      "cell_type": "code",
      "metadata": {
        "id": "MQt386vjNWsr",
        "colab_type": "code",
        "colab": {}
      },
      "source": [
        "from sklearn import datasets\n",
        "import pandas as pd\n",
        "import numpy as np\n",
        "import matplotlib.pyplot as plt"
      ],
      "execution_count": 89,
      "outputs": []
    },
    {
      "cell_type": "code",
      "metadata": {
        "id": "cdlhHYpFOPFY",
        "colab_type": "code",
        "colab": {}
      },
      "source": [
        "data = datasets.load_iris().data\n",
        "target = np.zeros([datasets.load_iris().target.shape[0], 3])\n",
        "for i in range(datasets.load_iris().target.shape[0]):\n",
        "  target[i][datasets.load_iris().target[i]] = 1"
      ],
      "execution_count": 6,
      "outputs": []
    },
    {
      "cell_type": "code",
      "metadata": {
        "id": "SuoJ8FFcBDDs",
        "colab_type": "code",
        "colab": {}
      },
      "source": [
        "data = pd.DataFrame(datasets.load_iris().data, columns=list('ABCD'))\n",
        "data['E'] = datasets.load_iris().target\n",
        "data_tr = data.sample(n = 100, replace=False)\n",
        "data_te = data.sample(n = 50, replace=False)\n",
        "data_tr_data = np.array(data_tr.drop(columns=['E']))\n",
        "data_tr_label = np.array(data_tr['E'])\n",
        "data_tr_target = np.zeros([data_tr_label.size, 3])\n",
        "for i in range(data_tr_label.size):\n",
        "  data_tr_target[i][data_tr_label[i]] = 1\n",
        "data_te_data = np.array(data_te.drop(columns=['E']))\n",
        "data_te_label = np.array(data_te['E'])\n",
        "data_te_target = np.zeros([data_te_label.size, 3])\n",
        "for i in range(data_te_label.size):\n",
        "  data_te_target[i][data_te_label[i]] = 1"
      ],
      "execution_count": 131,
      "outputs": []
    },
    {
      "cell_type": "code",
      "metadata": {
        "id": "xEhTozWqLZyY",
        "colab_type": "code",
        "colab": {}
      },
      "source": [
        "class neural_network():\n",
        "  def __init__(self, input_size, hidden_size, output_size, weight_init=0.1):\n",
        "    self.w1 = weight_init * np.random.rand(input_size, hidden_size)\n",
        "    self.b1 = np.zeros(hidden_size)\n",
        "    self.w2 = weight_init * np.random.rand(hidden_size, output_size)\n",
        "    self.b2 = np.zeros(output_size)\n",
        "\n",
        "  def sigmoid(self, x):\n",
        "    return 1.0 / (1.0 + np.exp(-x))\n",
        "\n",
        "  def softmax(self, a):\n",
        "    c = np.max(a)\n",
        "    e_a = np.exp(a-c)\n",
        "    sum_e_a = np.sum(e_a)\n",
        "    return e_a / sum_e_a\n",
        "\n",
        "  def forward(self, x):\n",
        "    a1 = np.dot(x, self.w1) + self.b1\n",
        "    z1 = self.sigmoid(a1)\n",
        "    a2 = np.dot(z1, self.w2) + self.b2\n",
        "    y = self.softmax(a2)\n",
        "    return y\n",
        "\n",
        "  def cross_entropy_error(self, y, t):\n",
        "    delta = 1e-7\n",
        "    return -np.sum(t * np.log(y + delta))\n",
        "\n",
        "  def cost_function(self, data, target):\n",
        "    error_list = [self.cross_entropy_error(self.forward(data[i]), target[i]) for i in range(data.shape[0])]\n",
        "    return np.sum(np.array(error_list) / data.shape[0])\n",
        "      \n",
        "  def gradient(self, data, target):\n",
        "    h = 1e-4\n",
        "    grad_w1 = np.zeros_like(self.w1)\n",
        "    grad_w2 = np.zeros_like(self.w2)\n",
        "    grad_b1 = np.zeros_like(self.b1)\n",
        "    grad_b2 = np.zeros_like(self.b2)\n",
        "    for i in range(self.w1.shape[0]):\n",
        "      for j in range(self.w1.shape[1]):\n",
        "        w_ij = self.w1[i][j]\n",
        "        self.w1[i][j] = w_ij-h\n",
        "        y_l = self.cost_function(data, target)\n",
        "        self.w1[i][j] = w_ij+h\n",
        "        y_r = self.cost_function(data, target)\n",
        "        grad_w1[i][j] = (y_r-y_l) / (2*h)\n",
        "        self.w1[i][j] = w_ij\n",
        "    for i in range(self.w2.shape[0]):\n",
        "      for j in range(self.w2.shape[1]):\n",
        "        w_ij = self.w2[i][j]\n",
        "        self.w2[i][j] = w_ij-h\n",
        "        y_l = self.cost_function(data, target)\n",
        "        self.w2[i][j] = w_ij+h\n",
        "        y_r = self.cost_function(data, target)\n",
        "        grad_w2[i][j] = (y_r-y_l) / (2*h)\n",
        "        self.w2[i][j] = w_ij\n",
        "    for i in range(self.b1.size):\n",
        "      b_i = self.b1[i]\n",
        "      self.b1[i] = b_i-h\n",
        "      y_l = self.cost_function(data, target)\n",
        "      self.b1[i] = b_i+h\n",
        "      y_r = self.cost_function(data, target)\n",
        "      grad_b1[i] = (y_r-y_l) / (2*h)\n",
        "      self.b1[i] = b_i\n",
        "    for i in range(self.b2.size):\n",
        "      b_i = self.b2[i]\n",
        "      self.b2[i] = b_i-h\n",
        "      y_l = self.cost_function(data, target)\n",
        "      self.b2[i] = b_i+h\n",
        "      y_r = self.cost_function(data, target)\n",
        "      grad_b2[i] = (y_r-y_l) / (2*h)\n",
        "      self.b2[i] = b_i\n",
        "    return grad_w1, grad_w2, grad_b1, grad_b2\n",
        "\n",
        "  def train(self, data, target, learning_rate = 0.01, times = 100):\n",
        "    error = np.zeros(times)\n",
        "    for i in range(times):\n",
        "      grad_w1, grad_w2, grad_b1, grad_b2 = self.gradient(data, target)\n",
        "      self.w1 -= learning_rate * grad_w1\n",
        "      self.w2 -= learning_rate * grad_w2\n",
        "      self.b1 -= learning_rate * grad_b1\n",
        "      self.b1 -= learning_rate * grad_b1\n",
        "      error[i] = self.cost_function(data, target)\n",
        "    return error\n",
        "\n",
        "  def recognize(self, x):\n",
        "    return np.argmax(self.forward(x))"
      ],
      "execution_count": 144,
      "outputs": []
    },
    {
      "cell_type": "code",
      "metadata": {
        "id": "Mj8BXmeBSuBr",
        "colab_type": "code",
        "colab": {}
      },
      "source": [
        "nn = neural_network(4, 10, 3)\n",
        "error = nn.train(data_tr_data, data_tr_target, 0.3, 200)"
      ],
      "execution_count": 145,
      "outputs": []
    },
    {
      "cell_type": "code",
      "metadata": {
        "id": "7lYT2jN-a9KR",
        "colab_type": "code",
        "colab": {
          "base_uri": "https://localhost:8080/",
          "height": 34
        },
        "outputId": "6f01c595-0e01-4480-a2ce-2ea7dfb59559"
      },
      "source": [
        "correct = 0\n",
        "for i in range(50):\n",
        "  if data_te_target[i][nn.recognize(data_te_data[i])] == 1:\n",
        "    correct += 1\n",
        "correct / 50\n"
      ],
      "execution_count": 146,
      "outputs": [
        {
          "output_type": "execute_result",
          "data": {
            "text/plain": [
              "0.98"
            ]
          },
          "metadata": {
            "tags": []
          },
          "execution_count": 146
        }
      ]
    },
    {
      "cell_type": "code",
      "metadata": {
        "id": "wC2Ma4ca1hzD",
        "colab_type": "code",
        "colab": {
          "base_uri": "https://localhost:8080/",
          "height": 282
        },
        "outputId": "5371da32-a186-4051-dbd0-244f97957a0d"
      },
      "source": [
        "times = np.arange(0, 200, 1)\n",
        "plt.plot(times, error, 'r', label='GD', linewidth=0.8)"
      ],
      "execution_count": 155,
      "outputs": [
        {
          "output_type": "execute_result",
          "data": {
            "text/plain": [
              "[<matplotlib.lines.Line2D at 0x7f014307add8>]"
            ]
          },
          "metadata": {
            "tags": []
          },
          "execution_count": 155
        },
        {
          "output_type": "display_data",
          "data": {
            "image/png": "[encoded data removed]",
            "text/plain": [
              "<Figure size 432x288 with 1 Axes>"
            ]
          },
          "metadata": {
            "tags": [],
            "needs_background": "light"
          }
        }
      ]
    },
    {
      "cell_type": "code",
      "metadata": {
        "id": "HMr-USWWy30v",
        "colab_type": "code",
        "colab": {}
      },
      "source": [
        "def relu(x):\n",
        "  return np.maximum(0, x)"
      ],
      "execution_count": null,
      "outputs": []
    },
    {
      "cell_type": "code",
      "metadata": {
        "id": "pv0wCx-yTM8i",
        "colab_type": "code",
        "colab": {}
      },
      "source": [
        "class neural_network():\n",
        "  def __init__(self, input_size, hidden_size, output_size, weight_init=0.01):\n",
        "    self.parameters = {}\n",
        "    self.parameters['w1'] = weight_init * np.random.rand(input_size, hidden_size)\n",
        "    self.parameters['b1'] = np.zeros(hidden_size)\n",
        "    self.parameters['w2'] = weight_init * np.random.rand(hidden_size, output_size)\n",
        "    self.parameters['b2'] = np.zeros(output_size)\n",
        "\n",
        "  def recognize(self, x):\n",
        "    w1,w2 = self.parameters['w1'],self.parameters['w2']\n",
        "    b1,b2 = self.parameters['b1'],self.parameters['b2']\n",
        "    x = x /255\n",
        "    a1 = np.dot(x,w1) + b1\n",
        "    z = sigmoid(a1)\n",
        "    a2 = np.dot(z,w2) + b2\n",
        "    y = a2\n",
        "    \n",
        "    return y\n",
        "\n",
        "  def cost_function(self, x, label):\n",
        "    y = self.recognize(x)\n",
        "    print(y)\n",
        "    d = 1e-7\n",
        "    cee = -np.log(y[label]+d)\n",
        "\n",
        "    return cee\n",
        "  \n",
        "  def gradient(self, x, label):\n",
        "    h = 1e-4\n",
        "    grads = {}\n",
        "    for key in ('w1','b1','w2','b2'):\n",
        "      grads[key] = np.zeros(self.parameters[key].size)\n",
        "      index = 0\n",
        "      for p in self.parameters[key]:\n",
        "        p_value = p\n",
        "        p = p_value+h\n",
        "        loss_p = self.cost_function(x, label)\n",
        "        p = p_value-h\n",
        "        loss_n = self.cost_function(x, label)\n",
        "        p = p_value\n",
        "        grads[key][index] = (loss_p-loss_n) / (2*h)\n",
        "        index += 1\n",
        "      grads[key].reshape(self.parameters[key].shape)\n",
        "\n",
        "    return grads\n",
        "\n",
        "  "
      ],
      "execution_count": null,
      "outputs": []
    }
  ]
}
