{
  "nbformat": 4,
  "nbformat_minor": 0,
  "metadata": {
    "colab": {
      "name": "neural_network_for_lecture.ipynb",
      "provenance": [],
      "collapsed_sections": [],
      "mount_file_id": "1PEgi-4E7jx4NolReOFZbvg5Nnek8xvqZ",
      "authorship_tag": "ABX9TyNtRQ+wXKeAwh+86xt/4dGH",
      "include_colab_link": true
    },
    "kernelspec": {
      "name": "python3",
      "display_name": "Python 3"
    }
  },
  "cells": [
    {
      "cell_type": "markdown",
      "metadata": {
        "id": "view-in-github",
        "colab_type": "text"
      },
      "source": [
        "<a href=\"https://colab.research.google.com/github/singwang-cn/Neural-Network/blob/master/naive%20neural%20network.ipynb\" target=\"_parent\"><img src=\"https://colab.research.google.com/assets/colab-badge.svg\" alt=\"Open In Colab\"/></a>"
      ]
    },
    {
      "cell_type": "markdown",
      "metadata": {
        "id": "do8xVayNRvt9"
      },
      "source": [
        "# Implementation of Naive 2-layer Neural Network by Numpy"
      ]
    },
    {
      "cell_type": "code",
      "metadata": {
        "id": "MQt386vjNWsr"
      },
      "source": [
        "from sklearn import datasets\n",
        "import pandas as pd\n",
        "import numpy as np\n",
        "import matplotlib.pyplot as plt"
      ],
      "execution_count": 1,
      "outputs": []
    },
    {
      "cell_type": "markdown",
      "metadata": {
        "id": "oB6_tdIkSFU3"
      },
      "source": [
        "# Preparation of Data set (Iris)\n",
        "data_tr is the training data set with 100 entries and data_te is the test data set with 50 ones.\n",
        "They will be disordered randomly and divided into 2 groups consisting of data and target."
      ]
    },
    {
      "cell_type": "code",
      "metadata": {
        "id": "cdlhHYpFOPFY"
      },
      "source": [
        "data = datasets.load_iris().data\n",
        "target = np.zeros([datasets.load_iris().target.shape[0], 3])\n",
        "for i in range(datasets.load_iris().target.shape[0]):\n",
        "  target[i][datasets.load_iris().target[i]] = 1"
      ],
      "execution_count": 2,
      "outputs": []
    },
    {
      "cell_type": "code",
      "metadata": {
        "id": "SuoJ8FFcBDDs"
      },
      "source": [
        "data = pd.DataFrame(datasets.load_iris().data, columns=list('ABCD'))\n",
        "data['E'] = datasets.load_iris().target\n",
        "data_tr = data.sample(n = 100, replace=False)\n",
        "data_te = data.sample(n = 50, replace=False)\n",
        "data_tr_data = np.array(data_tr.drop(columns=['E']))\n",
        "data_tr_label = np.array(data_tr['E'])\n",
        "data_tr_target = np.zeros([data_tr_label.size, 3])\n",
        "for i in range(data_tr_label.size):\n",
        "  data_tr_target[i][data_tr_label[i]] = 1\n",
        "data_te_data = np.array(data_te.drop(columns=['E']))\n",
        "data_te_label = np.array(data_te['E'])\n",
        "data_te_target = np.zeros([data_te_label.size, 3])\n",
        "for i in range(data_te_label.size):\n",
        "  data_te_target[i][data_te_label[i]] = 1"
      ],
      "execution_count": 3,
      "outputs": []
    },
    {
      "cell_type": "markdown",
      "metadata": {
        "id": "yHhZxKpCTWYv"
      },
      "source": [
        "# Implementation of 2-Layer Neural Network"
      ]
    },
    {
      "cell_type": "code",
      "metadata": {
        "id": "xEhTozWqLZyY"
      },
      "source": [
        "class neural_network():\n",
        "  def __init__(self, input_size, hidden_size, output_size, weight_init=0.1):\n",
        "    self.w1 = weight_init * np.random.rand(input_size, hidden_size)\n",
        "    self.b1 = np.zeros(hidden_size)\n",
        "    self.w2 = weight_init * np.random.rand(hidden_size, output_size)\n",
        "    self.b2 = np.zeros(output_size)\n",
        "\n",
        "  def sigmoid(self, x):\n",
        "    return 1.0 / (1.0 + np.exp(-x))\n",
        "\n",
        "  def softmax(self, a):\n",
        "    '''one-dim\n",
        "    c = np.max(a)\n",
        "    e_a = np.exp(a-c)\n",
        "    sum_e_a = np.sum(e_a)\n",
        "    return e_a / sum_e_a\n",
        "    '''\n",
        "    a = a - np.max(a, axis=-1, keepdims=True)\n",
        "    return np.exp(a) / np.sum(np.exp(a), axis=-1, keepdims=True)\n",
        "\n",
        "  def forward(self, x):\n",
        "    a1 = np.dot(x, self.w1) + self.b1\n",
        "    z1 = self.sigmoid(a1)\n",
        "    a2 = np.dot(z1, self.w2) + self.b2\n",
        "    y = self.softmax(a2)\n",
        "    return y\n",
        "\n",
        "  def cross_entropy_error(self, y, t):\n",
        "    delta = 1e-7\n",
        "    return -np.sum(t * np.log(y + delta))\n",
        "\n",
        "  def cost_function(self, data, target):\n",
        "    error_list = [self.cross_entropy_error(self.forward(data[i]), target[i]) for i in range(data.shape[0])]\n",
        "    return np.sum(np.array(error_list) / data.shape[0])\n",
        "      \n",
        "  def gradient(self, data, target):\n",
        "    h = 1e-4\n",
        "    grad_w1 = np.zeros_like(self.w1)\n",
        "    grad_w2 = np.zeros_like(self.w2)\n",
        "    grad_b1 = np.zeros_like(self.b1)\n",
        "    grad_b2 = np.zeros_like(self.b2)\n",
        "    for i in range(self.w1.shape[0]):\n",
        "      for j in range(self.w1.shape[1]):\n",
        "        w_ij = self.w1[i][j]\n",
        "        self.w1[i][j] = w_ij-h\n",
        "        y_l = self.cost_function(data, target)\n",
        "        self.w1[i][j] = w_ij+h\n",
        "        y_r = self.cost_function(data, target)\n",
        "        grad_w1[i][j] = (y_r-y_l) / (2*h)\n",
        "        self.w1[i][j] = w_ij\n",
        "    for i in range(self.w2.shape[0]):\n",
        "      for j in range(self.w2.shape[1]):\n",
        "        w_ij = self.w2[i][j]\n",
        "        self.w2[i][j] = w_ij-h\n",
        "        y_l = self.cost_function(data, target)\n",
        "        self.w2[i][j] = w_ij+h\n",
        "        y_r = self.cost_function(data, target)\n",
        "        grad_w2[i][j] = (y_r-y_l) / (2*h)\n",
        "        self.w2[i][j] = w_ij\n",
        "    for i in range(self.b1.size):\n",
        "      b_i = self.b1[i]\n",
        "      self.b1[i] = b_i-h\n",
        "      y_l = self.cost_function(data, target)\n",
        "      self.b1[i] = b_i+h\n",
        "      y_r = self.cost_function(data, target)\n",
        "      grad_b1[i] = (y_r-y_l) / (2*h)\n",
        "      self.b1[i] = b_i\n",
        "    for i in range(self.b2.size):\n",
        "      b_i = self.b2[i]\n",
        "      self.b2[i] = b_i-h\n",
        "      y_l = self.cost_function(data, target)\n",
        "      self.b2[i] = b_i+h\n",
        "      y_r = self.cost_function(data, target)\n",
        "      grad_b2[i] = (y_r-y_l) / (2*h)\n",
        "      self.b2[i] = b_i\n",
        "    return grad_w1, grad_w2, grad_b1, grad_b2\n",
        "\n",
        "  def gradient_backpropagation(self, data, target):\n",
        "    a1 = np.dot(data, self.w1) + self.b1\n",
        "    z1 = self.sigmoid(a1)\n",
        "    a2 = np.dot(z1, self.w2) + self.b2\n",
        "\n",
        "    loss = self.cost_function(data, target)\n",
        "    error_fw = self.softmax(a2)\n",
        "    error_softmax = (error_fw-target) / target.shape[0]\n",
        "\n",
        "    grad_b2 = np.sum(error_softmax, axis=0)\n",
        "    grad_w2 = np.dot(z1.T, error_softmax)\n",
        "\n",
        "    error_l2 = np.dot(error_softmax, self.w2.T)\n",
        "    error_sigmoid = error_l2*(1.-z1)*z1\n",
        "\n",
        "    grad_b1 = np.sum(error_sigmoid, axis=0)\n",
        "    grad_w1 = np.dot(data.T, error_sigmoid)\n",
        "\n",
        "    return grad_w1, grad_w2, grad_b1, grad_b2\n",
        "\n",
        "  def train(self, data, target, learning_rate = 0.01, times = 100):\n",
        "    error = np.zeros(times)\n",
        "    for i in range(times):\n",
        "      grad_w1, grad_w2, grad_b1, grad_b2 = self.gradient(data, target)\n",
        "      self.w1 -= learning_rate * grad_w1\n",
        "      self.w2 -= learning_rate * grad_w2\n",
        "      self.b1 -= learning_rate * grad_b1\n",
        "      self.b2 -= learning_rate * grad_b2\n",
        "      error[i] = self.cost_function(data, target)\n",
        "    return error\n",
        "\n",
        "  def recognize(self, x):\n",
        "    return np.argmax(self.forward(x))"
      ],
      "execution_count": 61,
      "outputs": []
    },
    {
      "cell_type": "markdown",
      "metadata": {
        "id": "uOwJN7GHURPV"
      },
      "source": [
        "# Training and Testing"
      ]
    },
    {
      "cell_type": "code",
      "metadata": {
        "id": "Mj8BXmeBSuBr"
      },
      "source": [
        "nn = neural_network(4, 10, 3)\n",
        "error = nn.train(data_tr_data, data_tr_target, 0.3, 500)"
      ],
      "execution_count": 62,
      "outputs": []
    },
    {
      "cell_type": "code",
      "metadata": {
        "id": "7lYT2jN-a9KR",
        "outputId": "ae3d0bed-dba1-4f53-9942-2750c44b6b55",
        "colab": {
          "base_uri": "https://localhost:8080/"
        }
      },
      "source": [
        "correct = 0\n",
        "for i in range(50):\n",
        "  if data_te_target[i][nn.recognize(data_te_data[i])] == 1:\n",
        "    correct += 1\n",
        "print(\"Accuracy: {:.2%}\".format(correct / 50))"
      ],
      "execution_count": 63,
      "outputs": [
        {
          "output_type": "stream",
          "text": [
            "Accuracy: 96.00%\n"
          ],
          "name": "stdout"
        }
      ]
    },
    {
      "cell_type": "code",
      "metadata": {
        "id": "wC2Ma4ca1hzD",
        "outputId": "ef58d367-fdcc-4b5d-de0a-626c71db70ab",
        "colab": {
          "base_uri": "https://localhost:8080/",
          "height": 312
        }
      },
      "source": [
        "times = np.arange(0, 500, 1)\n",
        "plt.figure(\"Training of naive neural network\")\n",
        "plt.title(\"The Change of Errors in Training\")\n",
        "plt.xlabel(\"times of training\")\n",
        "plt.ylabel(\"error by cost function\")\n",
        "plt.plot(times, error, 'r', label='GD', linewidth=0.8)\n",
        "plt.legend()"
      ],
      "execution_count": 64,
      "outputs": [
        {
          "output_type": "execute_result",
          "data": {
            "text/plain": [
              "<matplotlib.legend.Legend at 0x7f8f9be73080>"
            ]
          },
          "metadata": {
            "tags": []
          },
          "execution_count": 64
        },
        {
          "output_type": "display_data",
          "data": {
            "image/png": "[encoded data removed]",
            "text/plain": [
              "<Figure size 432x288 with 1 Axes>"
            ]
          },
          "metadata": {
            "tags": [],
            "needs_background": "light"
          }
        }
      ]
    }
  ]
}