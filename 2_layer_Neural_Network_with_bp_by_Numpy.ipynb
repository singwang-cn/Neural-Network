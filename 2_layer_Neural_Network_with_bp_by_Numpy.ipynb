{
  "nbformat": 4,
  "nbformat_minor": 0,
  "metadata": {
    "colab": {
      "name": "2-layer Neural Network with bp by Numpy.ipynb",
      "provenance": [],
      "toc_visible": true,
      "authorship_tag": "ABX9TyMTbe/vgqete4MLRAUdXnY7",
      "include_colab_link": true
    },
    "kernelspec": {
      "name": "python3",
      "display_name": "Python 3"
    }
  },
  "cells": [
    {
      "cell_type": "markdown",
      "metadata": {
        "id": "view-in-github",
        "colab_type": "text"
      },
      "source": [
        "<a href=\"https://colab.research.google.com/github/singwang-cn/Neural-Network/blob/master/2_layer_Neural_Network_with_bp_by_Numpy.ipynb\" target=\"_parent\"><img src=\"https://colab.research.google.com/assets/colab-badge.svg\" alt=\"Open In Colab\"/></a>"
      ]
    },
    {
      "cell_type": "code",
      "metadata": {
        "id": "qs02onYCVhDw"
      },
      "source": [
        "from sklearn import datasets\n",
        "import pandas as pd\n",
        "import numpy as np\n",
        "import matplotlib.pyplot as plt"
      ],
      "execution_count": 1,
      "outputs": []
    },
    {
      "cell_type": "code",
      "metadata": {
        "id": "omRsjpbMV-W2"
      },
      "source": [
        "data_tr_df = pd.read_csv(\"/content/sample_data/mnist_train_small.csv\")\n",
        "data_te_df = pd.read_csv(\"/content/sample_data/mnist_test.csv\")\n",
        "data_tr_df.rename(columns={data_tr_df.columns[0]: \"target\"}, inplace=True)\n",
        "data_te_df.rename(columns={data_te_df.columns[0]: \"target\"}, inplace=True)\n",
        "data_tr_la = np.array(data_tr_df['target'])\n",
        "data_tr_ta = np.zeros([data_tr_la.size, 10])\n",
        "for i in range(data_tr_la.size):\n",
        "  data_tr_ta[i][data_tr_la[i]] = 1\n",
        "data_tr_im = np.array(data_tr_df.drop(columns=['target']))\n",
        "data_te_la = np.array(data_te_df['target'])\n",
        "data_te_ta = np.zeros([data_te_la.size, 10])\n",
        "for i in range(data_te_la.size):\n",
        "  data_te_ta[i][data_te_la[i]] = 1\n",
        "data_te_im = np.array(data_te_df.drop(columns=['target']))"
      ],
      "execution_count": 66,
      "outputs": []
    },
    {
      "cell_type": "code",
      "metadata": {
        "id": "i0g5UX-fVkJI"
      },
      "source": [
        "class neural_network():\n",
        "  def __init__(self, input_size, hidden_size, output_size, weight_init=0.1):\n",
        "    self.w1 = weight_init * np.random.rand(input_size, hidden_size)\n",
        "    self.b1 = np.zeros(hidden_size)\n",
        "    self.w2 = weight_init * np.random.rand(hidden_size, output_size)\n",
        "    self.b2 = np.zeros(output_size)\n",
        "\n",
        "  def sigmoid(self, x):\n",
        "    return 1.0 / (1.0 + np.exp(-x))\n",
        "\n",
        "  def softmax(self, a):\n",
        "    c = np.max(a)\n",
        "    e_a = np.exp(a-c)\n",
        "    sum_e_a = np.sum(e_a)\n",
        "    return e_a / sum_e_a\n",
        "\n",
        "  def forward(self, x):\n",
        "    a1 = np.dot(x, self.w1) + self.b1\n",
        "    z1 = self.sigmoid(a1)\n",
        "    a2 = np.dot(z1, self.w2) + self.b2\n",
        "    y = self.softmax(a2)\n",
        "    return y\n",
        "\n",
        "  def cross_entropy_error(self, y, t):\n",
        "    delta = 1e-7\n",
        "    return -np.sum(t * np.log(y + delta))\n",
        "\n",
        "  def cost_function(self, data, target):\n",
        "    error_list = [self.cross_entropy_error(self.forward(data[i]), target[i]) for i in range(data.shape[0])]\n",
        "    return np.sum(np.array(error_list) / data.shape[0])\n",
        "      \n",
        "  def gradient(self, data, target):\n",
        "    h = 1e-4\n",
        "    grad_w1 = np.zeros_like(self.w1)\n",
        "    grad_w2 = np.zeros_like(self.w2)\n",
        "    grad_b1 = np.zeros_like(self.b1)\n",
        "    grad_b2 = np.zeros_like(self.b2)\n",
        "    for i in range(self.w1.shape[0]):\n",
        "      for j in range(self.w1.shape[1]):\n",
        "        w_ij = self.w1[i][j]\n",
        "        self.w1[i][j] = w_ij-h\n",
        "        y_l = self.cost_function(data, target)\n",
        "        self.w1[i][j] = w_ij+h\n",
        "        y_r = self.cost_function(data, target)\n",
        "        grad_w1[i][j] = (y_r-y_l) / (2*h)\n",
        "        self.w1[i][j] = w_ij\n",
        "    for i in range(self.w2.shape[0]):\n",
        "      for j in range(self.w2.shape[1]):\n",
        "        w_ij = self.w2[i][j]\n",
        "        self.w2[i][j] = w_ij-h\n",
        "        y_l = self.cost_function(data, target)\n",
        "        self.w2[i][j] = w_ij+h\n",
        "        y_r = self.cost_function(data, target)\n",
        "        grad_w2[i][j] = (y_r-y_l) / (2*h)\n",
        "        self.w2[i][j] = w_ij\n",
        "    for i in range(self.b1.size):\n",
        "      b_i = self.b1[i]\n",
        "      self.b1[i] = b_i-h\n",
        "      y_l = self.cost_function(data, target)\n",
        "      self.b1[i] = b_i+h\n",
        "      y_r = self.cost_function(data, target)\n",
        "      grad_b1[i] = (y_r-y_l) / (2*h)\n",
        "      self.b1[i] = b_i\n",
        "    for i in range(self.b2.size):\n",
        "      b_i = self.b2[i]\n",
        "      self.b2[i] = b_i-h\n",
        "      y_l = self.cost_function(data, target)\n",
        "      self.b2[i] = b_i+h\n",
        "      y_r = self.cost_function(data, target)\n",
        "      grad_b2[i] = (y_r-y_l) / (2*h)\n",
        "      self.b2[i] = b_i\n",
        "    return grad_w1, grad_w2, grad_b1, grad_b2\n",
        "  \n",
        "  def gradient_backpropagation(self, data, target):\n",
        "    a1 = np.dot(data, self.w1) + self.b1\n",
        "    z1 = self.sigmoid(a1)\n",
        "    a2 = np.dot(z1, self.w2) + self.b2\n",
        "\n",
        "    error_fw = self.softmax(a2)\n",
        "    error_softmax = (error_fw-target) / target.shape[0]\n",
        "\n",
        "    grad_b2 = np.sum(error_softmax, axis=0)\n",
        "    grad_w2 = np.dot(z1.T, error_softmax)\n",
        "\n",
        "    error_l2 = np.dot(error_softmax, self.w2.T)\n",
        "    error_sigmoid = error_l2*(1.-z1)*z1\n",
        "\n",
        "    grad_b1 = np.sum(error_sigmoid, axis=0)\n",
        "    grad_w1 = np.dot(data.T, error_sigmoid)\n",
        "\n",
        "    return grad_w1, grad_w2, grad_b1, grad_b2\n",
        "\n",
        "  def train(self, data, target, learning_rate = 0.01, times = 100, batch = False):\n",
        "    error = np.zeros(times)\n",
        "    if batch:\n",
        "      for i in range(times):\n",
        "        batch_size = 100\n",
        "        index = data.shape[0]\n",
        "        index_batch = np.random.choice(index, batch_size, replace=True)\n",
        "        data_batch = data[index_batch]\n",
        "        target_batch = target[index_batch]\n",
        "        grad_w1, grad_w2, grad_b1, grad_b2 = self.gradient_backpropagation(data_batch, target_batch)\n",
        "        self.w1 -= learning_rate * grad_w1\n",
        "        self.w2 -= learning_rate * grad_w2\n",
        "        self.b1 -= learning_rate * grad_b1\n",
        "        self.b2 -= learning_rate * grad_b2\n",
        "        error[i] = self.cost_function(data_batch, target_batch)\n",
        "    else:\n",
        "      for i in range(times):\n",
        "        grad_w1, grad_w2, grad_b1, grad_b2 = self.gradient_backpropagation(data, target)\n",
        "        self.w1 -= learning_rate * grad_w1\n",
        "        self.w2 -= learning_rate * grad_w2\n",
        "        self.b1 -= learning_rate * grad_b1\n",
        "        self.b2 -= learning_rate * grad_b2\n",
        "        error[i] = self.cost_function(data, target)\n",
        "    return error\n",
        "\n",
        "  def recognize(self, x):\n",
        "    return np.argmax(self.forward(x))"
      ],
      "execution_count": 394,
      "outputs": []
    },
    {
      "cell_type": "code",
      "metadata": {
        "id": "pz_fnQ93etD9"
      },
      "source": [
        "nn = neural_network(784, 100, 10, weight_init=0.1)\n",
        "error = nn.train(data_tr_im[0:100]/255, data_tr_ta[0:100], 0.3, 2000, batch=False)"
      ],
      "execution_count": 395,
      "outputs": []
    },
    {
      "cell_type": "code",
      "metadata": {
        "id": "ch9glgA7Vvt5",
        "outputId": "f743122c-f289-4c20-dd7b-9c1e3330ad5d",
        "colab": {
          "base_uri": "https://localhost:8080/"
        }
      },
      "source": [
        "correct = 0\n",
        "for i in range(data_te_ta.shape[0]):\n",
        "  if data_te_ta[i][nn.recognize(data_te_im[i])] == 1:\n",
        "    correct += 1\n",
        "print(\"Accuracy: {:.2%}\".format(correct / data_te_ta.shape[0]))"
      ],
      "execution_count": 385,
      "outputs": [
        {
          "output_type": "stream",
          "text": [
            "Accuracy: 11.35%\n"
          ],
          "name": "stdout"
        }
      ]
    },
    {
      "cell_type": "code",
      "metadata": {
        "id": "NEaJgNMak1sv",
        "outputId": "1170b307-e4d6-453e-b795-fd41e712b1ef",
        "colab": {
          "base_uri": "https://localhost:8080/",
          "height": 312
        }
      },
      "source": [
        "times = np.arange(0, 2000, 1)\n",
        "plt.figure(\"Training of naive neural network\")\n",
        "plt.title(\"The Change of Errors in Training\")\n",
        "plt.xlabel(\"times of training\")\n",
        "plt.ylabel(\"error by cost function\")\n",
        "plt.plot(times, error, 'r', label='GD', linewidth=0.8)\n",
        "plt.legend()"
      ],
      "execution_count": 396,
      "outputs": [
        {
          "output_type": "execute_result",
          "data": {
            "text/plain": [
              "<matplotlib.legend.Legend at 0x7fcd25c7ccf8>"
            ]
          },
          "metadata": {
            "tags": []
          },
          "execution_count": 396
        },
        {
          "output_type": "display_data",
          "data": {
            "image/png": "[encoded data removed]",
            "text/plain": [
              "<Figure size 432x288 with 1 Axes>"
            ]
          },
          "metadata": {
            "tags": [],
            "needs_background": "light"
          }
        }
      ]
    }
  ]
}